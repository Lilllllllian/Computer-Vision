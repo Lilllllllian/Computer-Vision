{
 "cells": [
  {
   "cell_type": "code",
   "execution_count": 2,
   "id": "1e3e461f-eba6-4653-9cea-96fce2707e26",
   "metadata": {},
   "outputs": [
    {
     "name": "stdout",
     "output_type": "stream",
     "text": [
      "/root/detectron2\n"
     ]
    }
   ],
   "source": [
    "%cd detectron2"
   ]
  },
  {
   "cell_type": "code",
   "execution_count": 3,
   "id": "293b855c-8589-4311-a7ec-c3ee4d67d21b",
   "metadata": {},
   "outputs": [
    {
     "name": "stdout",
     "output_type": "stream",
     "text": [
      "running build\n",
      "running build_py\n",
      "running build_ext\n",
      "/root/miniconda3/lib/python3.8/site-packages/torch/utils/cpp_extension.py:381: UserWarning: Attempted to use ninja as the BuildExtension backend but we could not find ninja.. Falling back to using the slow distutils backend.\n",
      "  warnings.warn(msg.format('we could not find ninja.'))\n",
      "running develop\n",
      "running egg_info\n",
      "writing detectron2.egg-info/PKG-INFO\n",
      "writing dependency_links to detectron2.egg-info/dependency_links.txt\n",
      "writing requirements to detectron2.egg-info/requires.txt\n",
      "writing top-level names to detectron2.egg-info/top_level.txt\n",
      "writing manifest file 'detectron2.egg-info/SOURCES.txt'\n",
      "running build_ext\n",
      "copying build/lib.linux-x86_64-3.8/detectron2/_C.cpython-38-x86_64-linux-gnu.so -> detectron2\n",
      "Creating /root/miniconda3/lib/python3.8/site-packages/detectron2.egg-link (link to .)\n",
      "detectron2 0.6 is already the active version in easy-install.pth\n",
      "\n",
      "Installed /root/detectron2\n",
      "Processing dependencies for detectron2==0.6\n",
      "error: packaging 21.3 is installed but packaging>=24.0 is required by {'wheel'}\n"
     ]
    }
   ],
   "source": [
    "!python setup.py build develop"
   ]
  },
  {
   "cell_type": "code",
   "execution_count": 5,
   "id": "68df6ecd-8344-4846-927d-667f8beba7a9",
   "metadata": {},
   "outputs": [
    {
     "name": "stdout",
     "output_type": "stream",
     "text": [
      "/root\n"
     ]
    }
   ],
   "source": [
    "%cd .."
   ]
  },
  {
   "cell_type": "code",
   "execution_count": 6,
   "id": "f0f0844f-8fad-4b3a-b0b8-f348d8ac246f",
   "metadata": {},
   "outputs": [
    {
     "name": "stdout",
     "output_type": "stream",
     "text": [
      "/root/SparseInst-main\n"
     ]
    }
   ],
   "source": [
    "%cd SparseInst-main"
   ]
  },
  {
   "cell_type": "code",
   "execution_count": 13,
   "id": "47355834-4f26-450a-ac5f-cf9a3cbf3836",
   "metadata": {},
   "outputs": [
    {
     "name": "stdout",
     "output_type": "stream",
     "text": [
      "\u001b[32m[05/28 00:17:38 detectron2]: \u001b[0mArguments: Namespace(confidence_threshold=0.5, config_file='configs/sparse_inst_r50_giam.yaml', input=['/root/image4.jpg'], opts=['MODEL.WEIGHTS', 'sparse_inst_r50_giam_aug_2b7d68.pth', 'INPUT.MIN_SIZE_TEST', '512'], output='results', video_input=None, webcam=False)\n",
      "\u001b[32m[05/28 00:17:43 fvcore.common.checkpoint]: \u001b[0m[Checkpointer] Loading from sparse_inst_r50_giam_aug_2b7d68.pth ...\n",
      "\u001b[32m[05/28 00:17:43 d2.checkpoint.c2_model_loading]: \u001b[0mFollowing weights matched with model:\n",
      "| Names in Model                     | Names in Checkpoint                                                                        | Shapes                                          |\n",
      "|:-----------------------------------|:-------------------------------------------------------------------------------------------|:------------------------------------------------|\n",
      "| backbone.res2.0.conv1.*            | backbone.res2.0.conv1.{norm.bias,norm.running_mean,norm.running_var,norm.weight,weight}    | (64,) (64,) (64,) (64,) (64,64,1,1)             |\n",
      "| backbone.res2.0.conv2.*            | backbone.res2.0.conv2.{norm.bias,norm.running_mean,norm.running_var,norm.weight,weight}    | (64,) (64,) (64,) (64,) (64,64,3,3)             |\n",
      "| backbone.res2.0.conv3.*            | backbone.res2.0.conv3.{norm.bias,norm.running_mean,norm.running_var,norm.weight,weight}    | (256,) (256,) (256,) (256,) (256,64,1,1)        |\n",
      "| backbone.res2.0.shortcut.*         | backbone.res2.0.shortcut.{norm.bias,norm.running_mean,norm.running_var,norm.weight,weight} | (256,) (256,) (256,) (256,) (256,64,1,1)        |\n",
      "| backbone.res2.1.conv1.*            | backbone.res2.1.conv1.{norm.bias,norm.running_mean,norm.running_var,norm.weight,weight}    | (64,) (64,) (64,) (64,) (64,256,1,1)            |\n",
      "| backbone.res2.1.conv2.*            | backbone.res2.1.conv2.{norm.bias,norm.running_mean,norm.running_var,norm.weight,weight}    | (64,) (64,) (64,) (64,) (64,64,3,3)             |\n",
      "| backbone.res2.1.conv3.*            | backbone.res2.1.conv3.{norm.bias,norm.running_mean,norm.running_var,norm.weight,weight}    | (256,) (256,) (256,) (256,) (256,64,1,1)        |\n",
      "| backbone.res2.2.conv1.*            | backbone.res2.2.conv1.{norm.bias,norm.running_mean,norm.running_var,norm.weight,weight}    | (64,) (64,) (64,) (64,) (64,256,1,1)            |\n",
      "| backbone.res2.2.conv2.*            | backbone.res2.2.conv2.{norm.bias,norm.running_mean,norm.running_var,norm.weight,weight}    | (64,) (64,) (64,) (64,) (64,64,3,3)             |\n",
      "| backbone.res2.2.conv3.*            | backbone.res2.2.conv3.{norm.bias,norm.running_mean,norm.running_var,norm.weight,weight}    | (256,) (256,) (256,) (256,) (256,64,1,1)        |\n",
      "| backbone.res3.0.conv1.*            | backbone.res3.0.conv1.{norm.bias,norm.running_mean,norm.running_var,norm.weight,weight}    | (128,) (128,) (128,) (128,) (128,256,1,1)       |\n",
      "| backbone.res3.0.conv2.*            | backbone.res3.0.conv2.{norm.bias,norm.running_mean,norm.running_var,norm.weight,weight}    | (128,) (128,) (128,) (128,) (128,128,3,3)       |\n",
      "| backbone.res3.0.conv3.*            | backbone.res3.0.conv3.{norm.bias,norm.running_mean,norm.running_var,norm.weight,weight}    | (512,) (512,) (512,) (512,) (512,128,1,1)       |\n",
      "| backbone.res3.0.shortcut.*         | backbone.res3.0.shortcut.{norm.bias,norm.running_mean,norm.running_var,norm.weight,weight} | (512,) (512,) (512,) (512,) (512,256,1,1)       |\n",
      "| backbone.res3.1.conv1.*            | backbone.res3.1.conv1.{norm.bias,norm.running_mean,norm.running_var,norm.weight,weight}    | (128,) (128,) (128,) (128,) (128,512,1,1)       |\n",
      "| backbone.res3.1.conv2.*            | backbone.res3.1.conv2.{norm.bias,norm.running_mean,norm.running_var,norm.weight,weight}    | (128,) (128,) (128,) (128,) (128,128,3,3)       |\n",
      "| backbone.res3.1.conv3.*            | backbone.res3.1.conv3.{norm.bias,norm.running_mean,norm.running_var,norm.weight,weight}    | (512,) (512,) (512,) (512,) (512,128,1,1)       |\n",
      "| backbone.res3.2.conv1.*            | backbone.res3.2.conv1.{norm.bias,norm.running_mean,norm.running_var,norm.weight,weight}    | (128,) (128,) (128,) (128,) (128,512,1,1)       |\n",
      "| backbone.res3.2.conv2.*            | backbone.res3.2.conv2.{norm.bias,norm.running_mean,norm.running_var,norm.weight,weight}    | (128,) (128,) (128,) (128,) (128,128,3,3)       |\n",
      "| backbone.res3.2.conv3.*            | backbone.res3.2.conv3.{norm.bias,norm.running_mean,norm.running_var,norm.weight,weight}    | (512,) (512,) (512,) (512,) (512,128,1,1)       |\n",
      "| backbone.res3.3.conv1.*            | backbone.res3.3.conv1.{norm.bias,norm.running_mean,norm.running_var,norm.weight,weight}    | (128,) (128,) (128,) (128,) (128,512,1,1)       |\n",
      "| backbone.res3.3.conv2.*            | backbone.res3.3.conv2.{norm.bias,norm.running_mean,norm.running_var,norm.weight,weight}    | (128,) (128,) (128,) (128,) (128,128,3,3)       |\n",
      "| backbone.res3.3.conv3.*            | backbone.res3.3.conv3.{norm.bias,norm.running_mean,norm.running_var,norm.weight,weight}    | (512,) (512,) (512,) (512,) (512,128,1,1)       |\n",
      "| backbone.res4.0.conv1.*            | backbone.res4.0.conv1.{norm.bias,norm.running_mean,norm.running_var,norm.weight,weight}    | (256,) (256,) (256,) (256,) (256,512,1,1)       |\n",
      "| backbone.res4.0.conv2.*            | backbone.res4.0.conv2.{norm.bias,norm.running_mean,norm.running_var,norm.weight,weight}    | (256,) (256,) (256,) (256,) (256,256,3,3)       |\n",
      "| backbone.res4.0.conv3.*            | backbone.res4.0.conv3.{norm.bias,norm.running_mean,norm.running_var,norm.weight,weight}    | (1024,) (1024,) (1024,) (1024,) (1024,256,1,1)  |\n",
      "| backbone.res4.0.shortcut.*         | backbone.res4.0.shortcut.{norm.bias,norm.running_mean,norm.running_var,norm.weight,weight} | (1024,) (1024,) (1024,) (1024,) (1024,512,1,1)  |\n",
      "| backbone.res4.1.conv1.*            | backbone.res4.1.conv1.{norm.bias,norm.running_mean,norm.running_var,norm.weight,weight}    | (256,) (256,) (256,) (256,) (256,1024,1,1)      |\n",
      "| backbone.res4.1.conv2.*            | backbone.res4.1.conv2.{norm.bias,norm.running_mean,norm.running_var,norm.weight,weight}    | (256,) (256,) (256,) (256,) (256,256,3,3)       |\n",
      "| backbone.res4.1.conv3.*            | backbone.res4.1.conv3.{norm.bias,norm.running_mean,norm.running_var,norm.weight,weight}    | (1024,) (1024,) (1024,) (1024,) (1024,256,1,1)  |\n",
      "| backbone.res4.2.conv1.*            | backbone.res4.2.conv1.{norm.bias,norm.running_mean,norm.running_var,norm.weight,weight}    | (256,) (256,) (256,) (256,) (256,1024,1,1)      |\n",
      "| backbone.res4.2.conv2.*            | backbone.res4.2.conv2.{norm.bias,norm.running_mean,norm.running_var,norm.weight,weight}    | (256,) (256,) (256,) (256,) (256,256,3,3)       |\n",
      "| backbone.res4.2.conv3.*            | backbone.res4.2.conv3.{norm.bias,norm.running_mean,norm.running_var,norm.weight,weight}    | (1024,) (1024,) (1024,) (1024,) (1024,256,1,1)  |\n",
      "| backbone.res4.3.conv1.*            | backbone.res4.3.conv1.{norm.bias,norm.running_mean,norm.running_var,norm.weight,weight}    | (256,) (256,) (256,) (256,) (256,1024,1,1)      |\n",
      "| backbone.res4.3.conv2.*            | backbone.res4.3.conv2.{norm.bias,norm.running_mean,norm.running_var,norm.weight,weight}    | (256,) (256,) (256,) (256,) (256,256,3,3)       |\n",
      "| backbone.res4.3.conv3.*            | backbone.res4.3.conv3.{norm.bias,norm.running_mean,norm.running_var,norm.weight,weight}    | (1024,) (1024,) (1024,) (1024,) (1024,256,1,1)  |\n",
      "| backbone.res4.4.conv1.*            | backbone.res4.4.conv1.{norm.bias,norm.running_mean,norm.running_var,norm.weight,weight}    | (256,) (256,) (256,) (256,) (256,1024,1,1)      |\n",
      "| backbone.res4.4.conv2.*            | backbone.res4.4.conv2.{norm.bias,norm.running_mean,norm.running_var,norm.weight,weight}    | (256,) (256,) (256,) (256,) (256,256,3,3)       |\n",
      "| backbone.res4.4.conv3.*            | backbone.res4.4.conv3.{norm.bias,norm.running_mean,norm.running_var,norm.weight,weight}    | (1024,) (1024,) (1024,) (1024,) (1024,256,1,1)  |\n",
      "| backbone.res4.5.conv1.*            | backbone.res4.5.conv1.{norm.bias,norm.running_mean,norm.running_var,norm.weight,weight}    | (256,) (256,) (256,) (256,) (256,1024,1,1)      |\n",
      "| backbone.res4.5.conv2.*            | backbone.res4.5.conv2.{norm.bias,norm.running_mean,norm.running_var,norm.weight,weight}    | (256,) (256,) (256,) (256,) (256,256,3,3)       |\n",
      "| backbone.res4.5.conv3.*            | backbone.res4.5.conv3.{norm.bias,norm.running_mean,norm.running_var,norm.weight,weight}    | (1024,) (1024,) (1024,) (1024,) (1024,256,1,1)  |\n",
      "| backbone.res5.0.conv1.*            | backbone.res5.0.conv1.{norm.bias,norm.running_mean,norm.running_var,norm.weight,weight}    | (512,) (512,) (512,) (512,) (512,1024,1,1)      |\n",
      "| backbone.res5.0.conv2.*            | backbone.res5.0.conv2.{norm.bias,norm.running_mean,norm.running_var,norm.weight,weight}    | (512,) (512,) (512,) (512,) (512,512,3,3)       |\n",
      "| backbone.res5.0.conv3.*            | backbone.res5.0.conv3.{norm.bias,norm.running_mean,norm.running_var,norm.weight,weight}    | (2048,) (2048,) (2048,) (2048,) (2048,512,1,1)  |\n",
      "| backbone.res5.0.shortcut.*         | backbone.res5.0.shortcut.{norm.bias,norm.running_mean,norm.running_var,norm.weight,weight} | (2048,) (2048,) (2048,) (2048,) (2048,1024,1,1) |\n",
      "| backbone.res5.1.conv1.*            | backbone.res5.1.conv1.{norm.bias,norm.running_mean,norm.running_var,norm.weight,weight}    | (512,) (512,) (512,) (512,) (512,2048,1,1)      |\n",
      "| backbone.res5.1.conv2.*            | backbone.res5.1.conv2.{norm.bias,norm.running_mean,norm.running_var,norm.weight,weight}    | (512,) (512,) (512,) (512,) (512,512,3,3)       |\n",
      "| backbone.res5.1.conv3.*            | backbone.res5.1.conv3.{norm.bias,norm.running_mean,norm.running_var,norm.weight,weight}    | (2048,) (2048,) (2048,) (2048,) (2048,512,1,1)  |\n",
      "| backbone.res5.2.conv1.*            | backbone.res5.2.conv1.{norm.bias,norm.running_mean,norm.running_var,norm.weight,weight}    | (512,) (512,) (512,) (512,) (512,2048,1,1)      |\n",
      "| backbone.res5.2.conv2.*            | backbone.res5.2.conv2.{norm.bias,norm.running_mean,norm.running_var,norm.weight,weight}    | (512,) (512,) (512,) (512,) (512,512,3,3)       |\n",
      "| backbone.res5.2.conv3.*            | backbone.res5.2.conv3.{norm.bias,norm.running_mean,norm.running_var,norm.weight,weight}    | (2048,) (2048,) (2048,) (2048,) (2048,512,1,1)  |\n",
      "| backbone.stem.conv1.*              | backbone.stem.conv1.{norm.bias,norm.running_mean,norm.running_var,norm.weight,weight}      | (64,) (64,) (64,) (64,) (64,3,7,7)              |\n",
      "| decoder.inst_branch.cls_score.*    | decoder.inst_branch.cls_score.{bias,weight}                                                | (80,) (80,1024)                                 |\n",
      "| decoder.inst_branch.fc.*           | decoder.inst_branch.fc.{bias,weight}                                                       | (1024,) (1024,1024)                             |\n",
      "| decoder.inst_branch.iam_conv.*     | decoder.inst_branch.iam_conv.{bias,weight}                                                 | (400,) (400,64,3,3)                             |\n",
      "| decoder.inst_branch.inst_convs.0.* | decoder.inst_branch.inst_convs.0.{bias,weight}                                             | (256,) (256,258,3,3)                            |\n",
      "| decoder.inst_branch.inst_convs.2.* | decoder.inst_branch.inst_convs.2.{bias,weight}                                             | (256,) (256,256,3,3)                            |\n",
      "| decoder.inst_branch.inst_convs.4.* | decoder.inst_branch.inst_convs.4.{bias,weight}                                             | (256,) (256,256,3,3)                            |\n",
      "| decoder.inst_branch.inst_convs.6.* | decoder.inst_branch.inst_convs.6.{bias,weight}                                             | (256,) (256,256,3,3)                            |\n",
      "| decoder.inst_branch.mask_kernel.*  | decoder.inst_branch.mask_kernel.{bias,weight}                                              | (128,) (128,1024)                               |\n",
      "| decoder.inst_branch.objectness.*   | decoder.inst_branch.objectness.{bias,weight}                                               | (1,) (1,1024)                                   |\n",
      "| decoder.mask_branch.mask_convs.0.* | decoder.mask_branch.mask_convs.0.{bias,weight}                                             | (256,) (256,258,3,3)                            |\n",
      "| decoder.mask_branch.mask_convs.2.* | decoder.mask_branch.mask_convs.2.{bias,weight}                                             | (256,) (256,256,3,3)                            |\n",
      "| decoder.mask_branch.mask_convs.4.* | decoder.mask_branch.mask_convs.4.{bias,weight}                                             | (256,) (256,256,3,3)                            |\n",
      "| decoder.mask_branch.mask_convs.6.* | decoder.mask_branch.mask_convs.6.{bias,weight}                                             | (256,) (256,256,3,3)                            |\n",
      "| decoder.mask_branch.projection.*   | decoder.mask_branch.projection.{bias,weight}                                               | (128,) (128,256,1,1)                            |\n",
      "| encoder.fpn_laterals.0.*           | encoder.fpn_laterals.0.{bias,weight}                                                       | (256,) (256,2048,1,1)                           |\n",
      "| encoder.fpn_laterals.1.*           | encoder.fpn_laterals.1.{bias,weight}                                                       | (256,) (256,1024,1,1)                           |\n",
      "| encoder.fpn_laterals.2.*           | encoder.fpn_laterals.2.{bias,weight}                                                       | (256,) (256,512,1,1)                            |\n",
      "| encoder.fpn_outputs.0.*            | encoder.fpn_outputs.0.{bias,weight}                                                        | (256,) (256,256,3,3)                            |\n",
      "| encoder.fpn_outputs.1.*            | encoder.fpn_outputs.1.{bias,weight}                                                        | (256,) (256,256,3,3)                            |\n",
      "| encoder.fpn_outputs.2.*            | encoder.fpn_outputs.2.{bias,weight}                                                        | (256,) (256,256,3,3)                            |\n",
      "| encoder.fusion.*                   | encoder.fusion.{bias,weight}                                                               | (256,) (256,768,1,1)                            |\n",
      "| encoder.ppm.bottleneck.*           | encoder.ppm.bottleneck.{bias,weight}                                                       | (256,) (256,512,1,1)                            |\n",
      "| encoder.ppm.stages.0.1.*           | encoder.ppm.stages.0.1.{bias,weight}                                                       | (64,) (64,256,1,1)                              |\n",
      "| encoder.ppm.stages.1.1.*           | encoder.ppm.stages.1.1.{bias,weight}                                                       | (64,) (64,256,1,1)                              |\n",
      "| encoder.ppm.stages.2.1.*           | encoder.ppm.stages.2.1.{bias,weight}                                                       | (64,) (64,256,1,1)                              |\n",
      "| encoder.ppm.stages.3.1.*           | encoder.ppm.stages.3.1.{bias,weight}                                                       | (64,) (64,256,1,1)                              |\n",
      "  0%|                                                     | 0/1 [00:00<?, ?it/s]/root/miniconda3/lib/python3.8/site-packages/torch/functional.py:445: UserWarning: torch.meshgrid: in an upcoming release, it will be required to pass the indexing argument. (Triggered internally at  ../aten/src/ATen/native/TensorShape.cpp:2157.)\n",
      "  return _VF.meshgrid(tensors, **kwargs)  # type: ignore[attr-defined]\n",
      "\u001b[32m[05/28 00:17:43 detectron2]: \u001b[0m/root/image4.jpg: detected 0 instances in 0.14s\n",
      "100%|█████████████████████████████████████████████| 1/1 [00:00<00:00,  3.45it/s]\n"
     ]
    }
   ],
   "source": [
    "!python demo.py --config-file configs/sparse_inst_r50_giam.yaml --input /root/image4.jpg --output results --opt MODEL.WEIGHTS sparse_inst_r50_giam_aug_2b7d68.pth INPUT.MIN_SIZE_TEST 512"
   ]
  },
  {
   "cell_type": "code",
   "execution_count": 15,
   "id": "f1994026-336a-47c4-abe1-23a794d26083",
   "metadata": {},
   "outputs": [
    {
     "name": "stdout",
     "output_type": "stream",
     "text": [
      "Looking in indexes: https://mirrors.aliyun.com/pypi/simple/\n",
      "Collecting opencv-python\n",
      "  Downloading https://mirrors.aliyun.com/pypi/packages/2c/8b/90eb44a40476fa0e71e05a0283947cfd74a5d36121a11d926ad6f3193cc4/opencv_python-4.11.0.86-cp37-abi3-manylinux_2_17_x86_64.manylinux2014_x86_64.whl (63.0 MB)\n",
      "\u001b[2K     \u001b[90m━━━━━━━━━━━━━━━━━━━━━━━━━━━━━━━━━━━━━━━━\u001b[0m \u001b[32m63.0/63.0 MB\u001b[0m \u001b[31m31.1 MB/s\u001b[0m eta \u001b[36m0:00:00\u001b[0m00:01\u001b[0m00:01\u001b[0m\n",
      "\u001b[?25hRequirement already satisfied: numpy>=1.17.0 in /root/miniconda3/lib/python3.8/site-packages (from opencv-python) (1.21.4)\n",
      "Installing collected packages: opencv-python\n",
      "Successfully installed opencv-python-4.11.0.86\n",
      "\u001b[33mWARNING: Running pip as the 'root' user can result in broken permissions and conflicting behaviour with the system package manager. It is recommended to use a virtual environment instead: https://pip.pypa.io/warnings/venv\u001b[0m\u001b[33m\n",
      "\u001b[0m\n",
      "\u001b[1m[\u001b[0m\u001b[34;49mnotice\u001b[0m\u001b[1;39;49m]\u001b[0m\u001b[39;49m A new release of pip available: \u001b[0m\u001b[31;49m22.2.2\u001b[0m\u001b[39;49m -> \u001b[0m\u001b[32;49m25.0.1\u001b[0m\n",
      "\u001b[1m[\u001b[0m\u001b[34;49mnotice\u001b[0m\u001b[1;39;49m]\u001b[0m\u001b[39;49m To update, run: \u001b[0m\u001b[32;49mpip install --upgrade pip\u001b[0m\n"
     ]
    }
   ],
   "source": [
    "!pip install opencv-python -i https://mirrors.aliyun.com/pypi/simple/"
   ]
  },
  {
   "cell_type": "code",
   "execution_count": 17,
   "id": "0b5c66d9-f6dc-49d2-ad01-fcfc5f88dc90",
   "metadata": {},
   "outputs": [
    {
     "name": "stdout",
     "output_type": "stream",
     "text": [
      "Looking in indexes: http://mirrors.aliyun.com/pypi/simple\n",
      "Collecting scipy\n",
      "  Downloading http://mirrors.aliyun.com/pypi/packages/69/f0/fb07a9548e48b687b8bf2fa81d71aba9cfc548d365046ca1c791e24db99d/scipy-1.10.1-cp38-cp38-manylinux_2_17_x86_64.manylinux2014_x86_64.whl (34.5 MB)\n",
      "\u001b[2K     \u001b[90m━━━━━━━━━━━━━━━━━━━━━━━━━━━━━━━━━━━━━━━━\u001b[0m \u001b[32m34.5/34.5 MB\u001b[0m \u001b[31m24.1 MB/s\u001b[0m eta \u001b[36m0:00:00\u001b[0m00:01\u001b[0m00:01\u001b[0m\n",
      "\u001b[?25hRequirement already satisfied: numpy<1.27.0,>=1.19.5 in /root/miniconda3/lib/python3.8/site-packages (from scipy) (1.21.4)\n",
      "Installing collected packages: scipy\n",
      "Successfully installed scipy-1.10.1\n",
      "\u001b[33mWARNING: Running pip as the 'root' user can result in broken permissions and conflicting behaviour with the system package manager. It is recommended to use a virtual environment instead: https://pip.pypa.io/warnings/venv\u001b[0m\u001b[33m\n",
      "\u001b[0m\n",
      "\u001b[1m[\u001b[0m\u001b[34;49mnotice\u001b[0m\u001b[1;39;49m]\u001b[0m\u001b[39;49m A new release of pip available: \u001b[0m\u001b[31;49m22.2.2\u001b[0m\u001b[39;49m -> \u001b[0m\u001b[32;49m25.0.1\u001b[0m\n",
      "\u001b[1m[\u001b[0m\u001b[34;49mnotice\u001b[0m\u001b[1;39;49m]\u001b[0m\u001b[39;49m To update, run: \u001b[0m\u001b[32;49mpip install --upgrade pip\u001b[0m\n"
     ]
    }
   ],
   "source": [
    "!pip install scipy"
   ]
  },
  {
   "cell_type": "code",
   "execution_count": null,
   "id": "791c3a2a-763a-42e0-9f4b-324673b3cad6",
   "metadata": {},
   "outputs": [],
   "source": []
  }
 ],
 "metadata": {
  "kernelspec": {
   "display_name": "Python 3 (ipykernel)",
   "language": "python",
   "name": "python3"
  },
  "language_info": {
   "codemirror_mode": {
    "name": "ipython",
    "version": 3
   },
   "file_extension": ".py",
   "mimetype": "text/x-python",
   "name": "python",
   "nbconvert_exporter": "python",
   "pygments_lexer": "ipython3",
   "version": "3.8.10"
  }
 },
 "nbformat": 4,
 "nbformat_minor": 5
}
